{
 "cells": [
  {
   "cell_type": "code",
   "execution_count": 24,
   "metadata": {},
   "outputs": [],
   "source": [
    "import os\n",
    "\n",
    "os.chdir(r'C:\\Users\\jessi\\OneDrive\\1 Projects\\1-svts')"
   ]
  },
  {
   "cell_type": "code",
   "execution_count": 30,
   "metadata": {},
   "outputs": [],
   "source": [
    "from pytz import timezone\n",
    "from datetime import datetime\n",
    "import pandas as pd\n",
    "\n",
    "file_path = r'data\\raw\\EURUSD1.csv'\n",
    "# Define the column names\n",
    "column_names = ['Date', 'Time', 'Open', 'High', 'Low', 'Close', 'TickVolume']\n",
    "\n",
    "# Reload the CSV with proper column names\n",
    "df = pd.read_csv(file_path, names=column_names)\n",
    "\n",
    "# Combine Date and Time columns into a single DateTime column and convert to datetime object\n",
    "df['DateTime'] = pd.to_datetime(df['Date'] + ' ' + df['Time'])\n",
    "\n",
    "# Drop the separate Date and Time columns\n",
    "df.drop(['Date', 'Time'], axis=1, inplace=True)\n",
    "\n",
    "# Convert time from UTC+3 to EST (UTC-4)\n",
    "utc3 = timezone('Etc/GMT-3')\n",
    "utc4 = timezone('Etc/GMT+4')\n",
    "\n",
    "df['DateTime'] = df['DateTime'].apply(lambda x: utc3.localize(x).astimezone(utc4))\n",
    "\n",
    "# Reorder columns\n",
    "df = df[['DateTime', 'Open', 'High', 'Low', 'Close', 'Volume']]\n",
    "\n",
    "# Define the path where the modified DataFrame will be saved\n",
    "output_file_path = r'data\\interim\\eur_usd1min.csv'\n",
    "\n",
    "# Save the modified DataFrame to a new CSV file\n",
    "df.to_csv(output_file_path, index=False)\n"
   ]
  },
  {
   "cell_type": "code",
   "execution_count": 33,
   "metadata": {},
   "outputs": [
    {
     "data": {
      "text/plain": [
       "'data/interim/EURUSD_M1_20231018_20231019_modified_single_cell.csv'"
      ]
     },
     "execution_count": 33,
     "metadata": {},
     "output_type": "execute_result"
    }
   ],
   "source": [
    "\n",
    "\n",
    "# Combine all the steps into a single cell to transform the TSV file and save it as a CSV file\n",
    "\n",
    "# Import required libraries\n",
    "import pandas as pd\n",
    "from pytz import timezone\n",
    "\n",
    "# Read the TSV file\n",
    "tsv_file_path = r'data/raw/EURUSD_M1_202310180000_202310192047.csv'\n",
    "df_tsv = pd.read_csv(tsv_file_path, sep='\\t')\n",
    "\n",
    "# Drop the <VOL> column\n",
    "df_tsv.drop('<VOL>', axis=1, inplace=True)\n",
    "\n",
    "# Combine <DATE> and <TIME> columns into a single DateTime column and convert to datetime object\n",
    "df_tsv['DateTime'] = pd.to_datetime(df_tsv['<DATE>'] + ' ' + df_tsv['<TIME>'])\n",
    "\n",
    "# Drop the separate <DATE> and <TIME> columns\n",
    "df_tsv.drop(['<DATE>', '<TIME>'], axis=1, inplace=True)\n",
    "\n",
    "# Convert time from UTC+3 to EST (UTC-4)\n",
    "utc3 = timezone('Etc/GMT-3')\n",
    "utc4 = timezone('Etc/GMT+4')\n",
    "df_tsv['DateTime'] = df_tsv['DateTime'].apply(lambda x: utc3.localize(x).astimezone(utc4))\n",
    "\n",
    "# Reorder columns\n",
    "df_tsv = df_tsv[['DateTime', '<OPEN>', '<HIGH>', '<LOW>', '<CLOSE>', '<TICKVOL>', '<SPREAD>']]\n",
    "\n",
    "# Save as CSV\n",
    "output_csv_file_path = r'data/interim/EURUSD_M1_20231018_20231019_modified_single_cell.csv'\n",
    "df_tsv.to_csv(output_csv_file_path, index=False)\n",
    "\n",
    "output_csv_file_path\n",
    "\n"
   ]
  },
  {
   "cell_type": "code",
   "execution_count": null,
   "metadata": {},
   "outputs": [],
   "source": []
  }
 ],
 "metadata": {
  "kernelspec": {
   "display_name": "python-venv",
   "language": "python",
   "name": "python3"
  },
  "language_info": {
   "codemirror_mode": {
    "name": "ipython",
    "version": 3
   },
   "file_extension": ".py",
   "mimetype": "text/x-python",
   "name": "python",
   "nbconvert_exporter": "python",
   "pygments_lexer": "ipython3",
   "version": "3.11.6"
  }
 },
 "nbformat": 4,
 "nbformat_minor": 2
}
