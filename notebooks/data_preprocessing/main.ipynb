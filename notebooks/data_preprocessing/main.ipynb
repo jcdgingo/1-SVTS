{
 "cells": [
  {
   "cell_type": "markdown",
   "id": "56f1559b",
   "metadata": {},
   "source": [
    "# cTraderFix Jupyter Sample\n",
    "\n",
    "In this Jupyter notebook we will use the Python package \"ctrader-fix\" to interact with cTrader FIX API.\n",
    "\n",
    "Let's start."
   ]
  },
  {
   "cell_type": "markdown",
   "id": "cca68e74",
   "metadata": {},
   "source": [
    "If you haven't already installed the \"ctrader-fix\" package, run the next code cell to install it via pip:"
   ]
  },
  {
   "cell_type": "code",
   "execution_count": null,
   "id": "c53bfd78",
   "metadata": {},
   "outputs": [],
   "source": [
    "!pip install ctrader-open-api"
   ]
  },
  {
   "cell_type": "markdown",
   "id": "ca2b39c1",
   "metadata": {},
   "source": [
    "Then we have to import all necessary types:"
   ]
  },
  {
   "cell_type": "code",
   "execution_count": null,
   "id": "4ab2a19d",
   "metadata": {},
   "outputs": [],
   "source": [
    "from twisted.internet import reactor\n",
    "import json\n",
    "from ctrader_fix import *\n",
    "import datetime"
   ]
  },
  {
   "cell_type": "markdown",
   "id": "d91f78fe",
   "metadata": {},
   "source": [
    "Now we use the \"config-trade.json\" config file to get your API credentials.\n",
    "Be sure to populate it with your API credentials before running next cell:"
   ]
  },
  {
   "cell_type": "code",
   "execution_count": null,
   "id": "2e67ade6",
   "metadata": {},
   "outputs": [],
   "source": [
    "# you can use two separate config files for QUOTE and TRADE\n",
    "with open(\"config-quote.json\") as configFile:\n",
    "    config = json.load(configFile)"
   ]
  },
  {
   "cell_type": "markdown",
   "id": "f40aa449",
   "metadata": {},
   "source": [
    "Then we will create a client based on our config:"
   ]
  },
  {
   "cell_type": "code",
   "execution_count": null,
   "id": "a81eaee2",
   "metadata": {},
   "outputs": [],
   "source": [
    "client = Client(config[\"Host\"], config[\"Port\"], ssl = config[\"SSL\"])"
   ]
  },
  {
   "cell_type": "markdown",
   "id": "f977a604",
   "metadata": {},
   "source": [
    "We will use ther below \"send\" method for sending our message:"
   ]
  },
  {
   "cell_type": "code",
   "execution_count": null,
   "id": "6a57524f",
   "metadata": {},
   "outputs": [],
   "source": [
    "def send(request):\n",
    "    diferred = client.send(request)\n",
    "    diferred.addCallback(lambda _: print(\"\\nSent: \", request.getMessage(client.getMessageSequenceNumber()).replace(\"\u0001\", \"|\")))"
   ]
  },
  {
   "cell_type": "markdown",
   "id": "9e722b92",
   "metadata": {},
   "source": [
    "We are going to:\n",
    "\n",
    "1. Send a log on requst\n",
    "2. After receiving log on response we send security list request\n",
    "3. Then if host is Trade we create a new market order for second symbol otherwise we send a mrket data request for the second symbol\n",
    "\n",
    "Let's set the client call backs that will be used by client after it got message received/connected/disconnected:"
   ]
  },
  {
   "cell_type": "code",
   "execution_count": 1,
   "id": "8718a36a",
   "metadata": {},
   "outputs": [
    {
     "ename": "NameError",
     "evalue": "name 'client' is not defined",
     "output_type": "error",
     "traceback": [
      "\u001b[1;31m---------------------------------------------------------------------------\u001b[0m",
      "\u001b[1;31mNameError\u001b[0m                                 Traceback (most recent call last)",
      "\u001b[1;32mc:\\Users\\jessi\\OneDrive\\1 Projects\\1-svts\\notebooks\\data_preprocessing\\main.ipynb Cell 13\u001b[0m line \u001b[0;36m5\n\u001b[0;32m     <a href='vscode-notebook-cell:/c%3A/Users/jessi/OneDrive/1%20Projects/1-svts/notebooks/data_preprocessing/main.ipynb#X15sZmlsZQ%3D%3D?line=47'>48</a>\u001b[0m     send(logonRequest)\n\u001b[0;32m     <a href='vscode-notebook-cell:/c%3A/Users/jessi/OneDrive/1%20Projects/1-svts/notebooks/data_preprocessing/main.ipynb#X15sZmlsZQ%3D%3D?line=49'>50</a>\u001b[0m \u001b[39m# Setting client callbacks\u001b[39;00m\n\u001b[1;32m---> <a href='vscode-notebook-cell:/c%3A/Users/jessi/OneDrive/1%20Projects/1-svts/notebooks/data_preprocessing/main.ipynb#X15sZmlsZQ%3D%3D?line=50'>51</a>\u001b[0m client\u001b[39m.\u001b[39msetConnectedCallback(connected)\n\u001b[0;32m     <a href='vscode-notebook-cell:/c%3A/Users/jessi/OneDrive/1%20Projects/1-svts/notebooks/data_preprocessing/main.ipynb#X15sZmlsZQ%3D%3D?line=51'>52</a>\u001b[0m client\u001b[39m.\u001b[39msetDisconnectedCallback(disconnected)\n\u001b[0;32m     <a href='vscode-notebook-cell:/c%3A/Users/jessi/OneDrive/1%20Projects/1-svts/notebooks/data_preprocessing/main.ipynb#X15sZmlsZQ%3D%3D?line=52'>53</a>\u001b[0m client\u001b[39m.\u001b[39msetMessageReceivedCallback(onMessageReceived)\n",
      "\u001b[1;31mNameError\u001b[0m: name 'client' is not defined"
     ]
    }
   ],
   "source": [
    "def onMessageReceived(client, responseMessage): # Callback for receiving all messages\n",
    "    print(\"\\nReceived: \", responseMessage.getMessage().replace(\"\u0001\", \"|\"))\n",
    "    # We get the message type field value\n",
    "    messageType = responseMessage.getFieldValue(35)\n",
    "    # we send a security list request after we received logon message response\n",
    "    if messageType == \"A\":\n",
    "        securityListRequest = SecurityListRequest(config)\n",
    "        securityListRequest.SecurityReqID = \"A\"\n",
    "        securityListRequest.SecurityListRequestType = 0\n",
    "        send(securityListRequest)\n",
    "    # After receiving the security list we send a market order request by using the security list first symbol\n",
    "    elif messageType == \"y\":\n",
    "        # We use getFieldValue to get all symbol IDs, it will return a list in this case\n",
    "        # because the symbol ID field is repetitive\n",
    "        symboldIds = responseMessage.getFieldValue(55)\n",
    "        if config[\"TargetSubID\"] == \"TRADE\":\n",
    "            newOrderSingle = NewOrderSingle(config)\n",
    "            newOrderSingle.ClOrdID = \"B\"\n",
    "            newOrderSingle.Symbol = symboldIds[1]\n",
    "            newOrderSingle.Side = 1\n",
    "            newOrderSingle.OrderQty = 1000\n",
    "            newOrderSingle.OrdType = 1\n",
    "            newOrderSingle.Designation = \"From Jupyter\"\n",
    "            send(newOrderSingle)\n",
    "        else:\n",
    "            marketDataRequest = MarketDataRequest(config)\n",
    "            marketDataRequest.MDReqID = \"a\"\n",
    "            marketDataRequest.SubscriptionRequestType = 1\n",
    "            marketDataRequest.MarketDepth = 1\n",
    "            marketDataRequest.NoMDEntryTypes = 1\n",
    "            marketDataRequest.MDEntryType = 0\n",
    "            marketDataRequest.NoRelatedSym = 1\n",
    "            marketDataRequest.Symbol = symboldIds[1]\n",
    "            send(marketDataRequest)\n",
    "    # after receiving the new order request response we stop the reactor\n",
    "    # And we will be disconnected from API\n",
    "    elif messageType == \"8\" or messageType == \"j\":\n",
    "        print(\"We are done, stopping the reactor\")\n",
    "        reactor.stop()\n",
    "\n",
    "def disconnected(client, reason): # Callback for client disconnection\n",
    "    print(\"\\nDisconnected, reason: \", reason)\n",
    "\n",
    "def connected(client): # Callback for client connection\n",
    "    print(\"Connected\")\n",
    "    logonRequest = LogonRequest(config)\n",
    "    send(logonRequest)\n",
    "    \n",
    "# Setting client callbacks\n",
    "client.setConnectedCallback(connected)\n",
    "client.setDisconnectedCallback(disconnected)\n",
    "client.setMessageReceivedCallback(onMessageReceived)"
   ]
  },
  {
   "cell_type": "markdown",
   "id": "fbcde03f",
   "metadata": {},
   "source": [
    "The last step is to run our client service, it will run inside Twisted reactor loop asynchronously:"
   ]
  },
  {
   "cell_type": "code",
   "execution_count": null,
   "id": "98c9510e",
   "metadata": {},
   "outputs": [],
   "source": [
    "# Starting the client service\n",
    "client.startService()\n",
    "# Run Twisted reactor, we imported it earlier\n",
    "reactor.run()"
   ]
  }
 ],
 "metadata": {
  "kernelspec": {
   "display_name": "Python 3 (ipykernel)",
   "language": "python",
   "name": "python3"
  },
  "language_info": {
   "codemirror_mode": {
    "name": "ipython",
    "version": 3
   },
   "file_extension": ".py",
   "mimetype": "text/x-python",
   "name": "python",
   "nbconvert_exporter": "python",
   "pygments_lexer": "ipython3",
   "version": "3.11.6"
  }
 },
 "nbformat": 4,
 "nbformat_minor": 5
}
