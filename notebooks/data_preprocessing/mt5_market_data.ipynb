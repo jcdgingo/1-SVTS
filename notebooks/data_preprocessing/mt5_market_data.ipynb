{
 "cells": [
  {
   "cell_type": "code",
   "execution_count": 1,
   "metadata": {},
   "outputs": [],
   "source": [
    "# Import required libraries\n",
    "import pandas as pd\n",
    "\n",
    "# Read the TSV file\n",
    "tsv_file_path = r'C:\\Users\\jessi\\OneDrive\\1 Projects\\1-svts\\data\\raw\\EURUSD_M1_201101030000_202310201036.csv'\n",
    "df_tsv = pd.read_csv(tsv_file_path, sep='\\t')\n",
    "\n",
    "# Drop the <VOL> column\n",
    "df_tsv.drop('<VOL>', axis=1, inplace=True)\n",
    "\n",
    "# Combine <DATE> and <TIME> columns into a single DateTime column and convert to datetime object\n",
    "df_tsv['DateTime'] = pd.to_datetime(df_tsv['<DATE>'] + ' ' + df_tsv['<TIME>'])\n",
    "\n",
    "# Drop the separate <DATE> and <TIME> columns\n",
    "df_tsv.drop(['<DATE>', '<TIME>'], axis=1, inplace=True)\n",
    "\n",
    "# Reorder columns\n",
    "df_tsv = df_tsv[['DateTime', '<OPEN>', '<HIGH>', '<LOW>', '<CLOSE>', '<TICKVOL>', '<SPREAD>']]\n",
    "\n",
    "# Save as CSV\n",
    "output_csv_file_path = r'C:\\Users\\jessi\\OneDrive\\1 Projects\\1-svts\\data\\interim\\EURUSD_M1.csv'\n",
    "df_tsv.to_csv(output_csv_file_path, index=False)\n",
    "\n",
    "\n",
    "\n"
   ]
  },
  {
   "cell_type": "code",
   "execution_count": null,
   "metadata": {},
   "outputs": [],
   "source": []
  }
 ],
 "metadata": {
  "kernelspec": {
   "display_name": "python-venv",
   "language": "python",
   "name": "python3"
  },
  "language_info": {
   "codemirror_mode": {
    "name": "ipython",
    "version": 3
   },
   "file_extension": ".py",
   "mimetype": "text/x-python",
   "name": "python",
   "nbconvert_exporter": "python",
   "pygments_lexer": "ipython3",
   "version": "3.11.6"
  }
 },
 "nbformat": 4,
 "nbformat_minor": 2
}
