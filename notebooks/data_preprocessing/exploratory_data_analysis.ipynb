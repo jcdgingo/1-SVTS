{
 "cells": [
  {
   "cell_type": "markdown",
   "metadata": {},
   "source": []
  },
  {
   "cell_type": "code",
   "execution_count": 1,
   "metadata": {},
   "outputs": [
    {
     "name": "stdout",
     "output_type": "stream",
     "text": [
      "Requirement already satisfied: pandas in c:\\users\\jessi\\onedrive\\1 projects\\1-svts\\python-venv\\lib\\site-packages (2.1.1)\n",
      "Collecting scikit-learn\n",
      "  Using cached scikit_learn-1.3.1-cp311-cp311-win_amd64.whl.metadata (11 kB)\n",
      "Collecting matplotlib\n",
      "  Using cached matplotlib-3.8.0-cp311-cp311-win_amd64.whl.metadata (5.9 kB)\n",
      "Requirement already satisfied: numpy>=1.23.2 in c:\\users\\jessi\\onedrive\\1 projects\\1-svts\\python-venv\\lib\\site-packages (from pandas) (1.26.1)\n",
      "Requirement already satisfied: python-dateutil>=2.8.2 in c:\\users\\jessi\\onedrive\\1 projects\\1-svts\\python-venv\\lib\\site-packages (from pandas) (2.8.2)\n",
      "Requirement already satisfied: pytz>=2020.1 in c:\\users\\jessi\\onedrive\\1 projects\\1-svts\\python-venv\\lib\\site-packages (from pandas) (2023.3.post1)\n",
      "Requirement already satisfied: tzdata>=2022.1 in c:\\users\\jessi\\onedrive\\1 projects\\1-svts\\python-venv\\lib\\site-packages (from pandas) (2023.3)\n",
      "Collecting scipy>=1.5.0 (from scikit-learn)\n",
      "  Using cached scipy-1.11.3-cp311-cp311-win_amd64.whl.metadata (60 kB)\n",
      "Collecting joblib>=1.1.1 (from scikit-learn)\n",
      "  Using cached joblib-1.3.2-py3-none-any.whl.metadata (5.4 kB)\n",
      "Collecting threadpoolctl>=2.0.0 (from scikit-learn)\n",
      "  Using cached threadpoolctl-3.2.0-py3-none-any.whl.metadata (10.0 kB)\n",
      "Collecting contourpy>=1.0.1 (from matplotlib)\n",
      "  Using cached contourpy-1.1.1-cp311-cp311-win_amd64.whl.metadata (5.9 kB)\n",
      "Collecting cycler>=0.10 (from matplotlib)\n",
      "  Using cached cycler-0.12.1-py3-none-any.whl.metadata (3.8 kB)\n",
      "Collecting fonttools>=4.22.0 (from matplotlib)\n",
      "  Using cached fonttools-4.43.1-cp311-cp311-win_amd64.whl.metadata (155 kB)\n",
      "Collecting kiwisolver>=1.0.1 (from matplotlib)\n",
      "  Using cached kiwisolver-1.4.5-cp311-cp311-win_amd64.whl.metadata (6.5 kB)\n",
      "Requirement already satisfied: packaging>=20.0 in c:\\users\\jessi\\onedrive\\1 projects\\1-svts\\python-venv\\lib\\site-packages (from matplotlib) (23.2)\n",
      "Collecting pillow>=6.2.0 (from matplotlib)\n",
      "  Using cached Pillow-10.1.0-cp311-cp311-win_amd64.whl.metadata (9.6 kB)\n",
      "Collecting pyparsing>=2.3.1 (from matplotlib)\n",
      "  Using cached pyparsing-3.1.1-py3-none-any.whl.metadata (5.1 kB)\n",
      "Requirement already satisfied: six>=1.5 in c:\\users\\jessi\\onedrive\\1 projects\\1-svts\\python-venv\\lib\\site-packages (from python-dateutil>=2.8.2->pandas) (1.16.0)\n",
      "Using cached scikit_learn-1.3.1-cp311-cp311-win_amd64.whl (9.2 MB)\n",
      "Using cached matplotlib-3.8.0-cp311-cp311-win_amd64.whl (7.6 MB)\n",
      "Using cached contourpy-1.1.1-cp311-cp311-win_amd64.whl (480 kB)\n",
      "Using cached cycler-0.12.1-py3-none-any.whl (8.3 kB)\n",
      "Using cached fonttools-4.43.1-cp311-cp311-win_amd64.whl (2.1 MB)\n",
      "Using cached joblib-1.3.2-py3-none-any.whl (302 kB)\n",
      "Using cached kiwisolver-1.4.5-cp311-cp311-win_amd64.whl (56 kB)\n",
      "Using cached Pillow-10.1.0-cp311-cp311-win_amd64.whl (2.6 MB)\n",
      "Using cached pyparsing-3.1.1-py3-none-any.whl (103 kB)\n",
      "Using cached scipy-1.11.3-cp311-cp311-win_amd64.whl (44.1 MB)\n",
      "Using cached threadpoolctl-3.2.0-py3-none-any.whl (15 kB)\n",
      "Installing collected packages: threadpoolctl, scipy, pyparsing, pillow, kiwisolver, joblib, fonttools, cycler, contourpy, scikit-learn, matplotlib\n",
      "Successfully installed contourpy-1.1.1 cycler-0.12.1 fonttools-4.43.1 joblib-1.3.2 kiwisolver-1.4.5 matplotlib-3.8.0 pillow-10.1.0 pyparsing-3.1.1 scikit-learn-1.3.1 scipy-1.11.3 threadpoolctl-3.2.0\n",
      "Note: you may need to restart the kernel to use updated packages.\n"
     ]
    }
   ],
   "source": [
    "%pip install pandas scikit-learn matplotlib\n"
   ]
  },
  {
   "cell_type": "code",
   "execution_count": 4,
   "metadata": {},
   "outputs": [],
   "source": [
    "import pandas as pd\n",
    "from sklearn.cluster import KMeans\n",
    "import matplotlib.pyplot as plt\n"
   ]
  },
  {
   "cell_type": "code",
   "execution_count": 19,
   "metadata": {},
   "outputs": [],
   "source": [
    "df = pd.read_csv(r'C:\\Users\\jessi\\OneDrive\\1 Projects\\1-svts\\data\\interim\\EURUSD_M1.csv')"
   ]
  },
  {
   "cell_type": "code",
   "execution_count": 20,
   "metadata": {},
   "outputs": [],
   "source": [
    "df_cluster = df.drop(['DateTime'], axis=1)"
   ]
  },
  {
   "cell_type": "code",
   "execution_count": 22,
   "metadata": {},
   "outputs": [
    {
     "data": {
      "image/png": "[encoded data removed]",
      "text/plain": [
       "<Figure size 640x480 with 1 Axes>"
      ]
     },
     "metadata": {},
     "output_type": "display_data"
    }
   ],
   "source": [
    "import pandas as pd\n",
    "from sklearn.cluster import KMeans\n",
    "import matplotlib.pyplot as plt\n",
    "\n",
    "# Sample OHLCV and spread data\n",
    "\n",
    "\n",
    "# Standardize the data\n",
    "from sklearn.preprocessing import StandardScaler\n",
    "scaler = StandardScaler()\n",
    "scaled_df = scaler.fit_transform(df_cluster)\n",
    "\n",
    "# Elbow method to find the best k\n",
    "wcss = []  # within-cluster sum of squares\n",
    "for i in range(1, 6):  # Adjust the range based on your data\n",
    "    kmeans = KMeans(n_clusters=i, init='k-means++', max_iter=300, n_init=10, random_state=0)\n",
    "    kmeans.fit(scaled_df)\n",
    "    wcss.append(kmeans.inertia_)\n",
    "\n",
    "# Plotting the elbow graph\n",
    "plt.plot(range(1, 6), wcss)\n",
    "plt.title('Elbow Method')\n",
    "plt.xlabel('Number of clusters')\n",
    "plt.ylabel('WCSS')\n",
    "plt.show()\n",
    "\n",
    "# Choose the best k and fit the model\n",
    "best_k = 3  # Replace this based on your observation from the elbow graph\n",
    "kmeans = KMeans(n_clusters=best_k, init='k-means++', max_iter=300, n_init=10, random_state=0)\n",
    "pred_y = kmeans.fit_predict(scaled_df)\n",
    "\n",
    "# Add cluster label to the original data\n",
    "df_cluster['Cluster'] = pred_y\n"
   ]
  },
  {
   "cell_type": "code",
   "execution_count": 18,
   "metadata": {},
   "outputs": [
    {
     "data": {
      "text/plain": [
       "Cluster\n",
       "0    3196534\n",
       "1    1459311\n",
       "2      80025\n",
       "Name: count, dtype: int64"
      ]
     },
     "execution_count": 18,
     "metadata": {},
     "output_type": "execute_result"
    }
   ],
   "source": [
    "df['Cluster'].value_counts()"
   ]
  },
  {
   "cell_type": "code",
   "execution_count": null,
   "metadata": {},
   "outputs": [],
   "source": [
    "import pandas as pd\n",
    "\n",
    "# Sample OHLC data\n",
    "df = pd.read_csv(r'C:\\Users\\jessi\\OneDrive\\1 Projects\\1-svts\\data\\interim\\EURUSD_M1.csv')\n",
    "\n",
    "# Initialize empty list to store candle types\n",
    "candle_types = []\n",
    "\n",
    "# Loop through DataFrame to classify candles\n",
    "for i, row in df.iterrows():\n",
    "    open, high, low, close = row['Open'], row['High'], row['Low'], row['Close']\n",
    "    body_size = abs(open - close)\n",
    "    upper_wick = abs(high - max(open, close))\n",
    "    lower_wick = abs(min(open, close) - low)\n",
    "    full_size = high - low\n",
    "    \n",
    "    if close > open:\n",
    "        wick_percentage = ((upper_wick + lower_wick) / full_size) * 100\n",
    "        if wick_percentage <= 20:\n",
    "            candle_types.append('Bullish Marubozu')\n",
    "        else:\n",
    "            candle_types.append('Bullish')\n",
    "    elif close < open:\n",
    "        wick_percentage = ((upper_wick + lower_wick) / full_size) * 100\n",
    "        if wick_percentage <= 20:\n",
    "            candle_types.append('Bearish Marubozu')\n",
    "        else:\n",
    "            candle_types.append('Bearish')\n",
    "    else:\n",
    "        candle_types.append('Neutral')\n",
    "\n",
    "# Add candle types to DataFrame\n",
    "df['Candle_Type'] = candle_types\n",
    "\n",
    "df\n"
   ]
  },
  {
   "cell_type": "code",
   "execution_count": 6,
   "metadata": {},
   "outputs": [],
   "source": [
    "import os\n",
    "project_folder_path = r'c:\\Users\\jessi\\OneDrive\\1 Projects\\1-svts'  # replace with your actual path\n",
    "\n",
    "# Change the current working directory\n",
    "os.chdir(project_folder_path)\n"
   ]
  },
  {
   "cell_type": "code",
   "execution_count": 16,
   "metadata": {},
   "outputs": [
    {
     "data": {
      "text/html": [
       "<div>\n",
       "<style scoped>\n",
       "    .dataframe tbody tr th:only-of-type {\n",
       "        vertical-align: middle;\n",
       "    }\n",
       "\n",
       "    .dataframe tbody tr th {\n",
       "        vertical-align: top;\n",
       "    }\n",
       "\n",
       "    .dataframe thead th {\n",
       "        text-align: right;\n",
       "    }\n",
       "</style>\n",
       "<table border=\"1\" class=\"dataframe\">\n",
       "  <thead>\n",
       "    <tr style=\"text-align: right;\">\n",
       "      <th></th>\n",
       "      <th>ticker</th>\n",
       "      <th>relevance_score</th>\n",
       "      <th>ticker_sentiment_score</th>\n",
       "      <th>ticker_sentiment_label</th>\n",
       "      <th>time_published(est)</th>\n",
       "    </tr>\n",
       "  </thead>\n",
       "  <tbody>\n",
       "    <tr>\n",
       "      <th>0</th>\n",
       "      <td>FOREX:USD</td>\n",
       "      <td>0.047147</td>\n",
       "      <td>-0.21182</td>\n",
       "      <td>Somewhat-Bearish</td>\n",
       "      <td>2022-02-28 19:02:02-05:00</td>\n",
       "    </tr>\n",
       "    <tr>\n",
       "      <th>1</th>\n",
       "      <td>FOREX:USD</td>\n",
       "      <td>0.100252</td>\n",
       "      <td>-0.506365</td>\n",
       "      <td>Bearish</td>\n",
       "      <td>2022-03-01 03:00:00-05:00</td>\n",
       "    </tr>\n",
       "    <tr>\n",
       "      <th>2</th>\n",
       "      <td>FOREX:USD</td>\n",
       "      <td>0.121312</td>\n",
       "      <td>-0.544853</td>\n",
       "      <td>Bearish</td>\n",
       "      <td>2022-03-01 03:00:00-05:00</td>\n",
       "    </tr>\n",
       "    <tr>\n",
       "      <th>3</th>\n",
       "      <td>FOREX:USD</td>\n",
       "      <td>0.041886</td>\n",
       "      <td>-0.171861</td>\n",
       "      <td>Somewhat-Bearish</td>\n",
       "      <td>2022-03-01 03:00:00-05:00</td>\n",
       "    </tr>\n",
       "    <tr>\n",
       "      <th>4</th>\n",
       "      <td>FOREX:USD</td>\n",
       "      <td>0.04876</td>\n",
       "      <td>-0.631514</td>\n",
       "      <td>Bearish</td>\n",
       "      <td>2022-03-01 03:00:00-05:00</td>\n",
       "    </tr>\n",
       "    <tr>\n",
       "      <th>...</th>\n",
       "      <td>...</td>\n",
       "      <td>...</td>\n",
       "      <td>...</td>\n",
       "      <td>...</td>\n",
       "      <td>...</td>\n",
       "    </tr>\n",
       "    <tr>\n",
       "      <th>715</th>\n",
       "      <td>FOREX:USD</td>\n",
       "      <td>0.111488</td>\n",
       "      <td>-0.144674</td>\n",
       "      <td>Neutral</td>\n",
       "      <td>2022-03-22 02:26:16-04:00</td>\n",
       "    </tr>\n",
       "    <tr>\n",
       "      <th>716</th>\n",
       "      <td>FOREX:USD</td>\n",
       "      <td>0.131823</td>\n",
       "      <td>-0.144674</td>\n",
       "      <td>Neutral</td>\n",
       "      <td>2022-03-22 02:26:16-04:00</td>\n",
       "    </tr>\n",
       "    <tr>\n",
       "      <th>717</th>\n",
       "      <td>FOREX:USD</td>\n",
       "      <td>0.055403</td>\n",
       "      <td>-0.002793</td>\n",
       "      <td>Neutral</td>\n",
       "      <td>2022-03-22 02:26:16-04:00</td>\n",
       "    </tr>\n",
       "    <tr>\n",
       "      <th>718</th>\n",
       "      <td>FOREX:USD</td>\n",
       "      <td>0.093289</td>\n",
       "      <td>-0.134357</td>\n",
       "      <td>Neutral</td>\n",
       "      <td>2022-03-22 02:26:16-04:00</td>\n",
       "    </tr>\n",
       "    <tr>\n",
       "      <th>719</th>\n",
       "      <td>FOREX:USD</td>\n",
       "      <td>0.052386</td>\n",
       "      <td>-0.002793</td>\n",
       "      <td>Neutral</td>\n",
       "      <td>2022-03-22 04:34:59-04:00</td>\n",
       "    </tr>\n",
       "  </tbody>\n",
       "</table>\n",
       "<p>720 rows × 5 columns</p>\n",
       "</div>"
      ],
      "text/plain": [
       "        ticker relevance_score ticker_sentiment_score ticker_sentiment_label  \\\n",
       "0    FOREX:USD        0.047147               -0.21182       Somewhat-Bearish   \n",
       "1    FOREX:USD        0.100252              -0.506365                Bearish   \n",
       "2    FOREX:USD        0.121312              -0.544853                Bearish   \n",
       "3    FOREX:USD        0.041886              -0.171861       Somewhat-Bearish   \n",
       "4    FOREX:USD         0.04876              -0.631514                Bearish   \n",
       "..         ...             ...                    ...                    ...   \n",
       "715  FOREX:USD        0.111488              -0.144674                Neutral   \n",
       "716  FOREX:USD        0.131823              -0.144674                Neutral   \n",
       "717  FOREX:USD        0.055403              -0.002793                Neutral   \n",
       "718  FOREX:USD        0.093289              -0.134357                Neutral   \n",
       "719  FOREX:USD        0.052386              -0.002793                Neutral   \n",
       "\n",
       "          time_published(est)  \n",
       "0   2022-02-28 19:02:02-05:00  \n",
       "1   2022-03-01 03:00:00-05:00  \n",
       "2   2022-03-01 03:00:00-05:00  \n",
       "3   2022-03-01 03:00:00-05:00  \n",
       "4   2022-03-01 03:00:00-05:00  \n",
       "..                        ...  \n",
       "715 2022-03-22 02:26:16-04:00  \n",
       "716 2022-03-22 02:26:16-04:00  \n",
       "717 2022-03-22 02:26:16-04:00  \n",
       "718 2022-03-22 02:26:16-04:00  \n",
       "719 2022-03-22 04:34:59-04:00  \n",
       "\n",
       "[720 rows x 5 columns]"
      ]
     },
     "execution_count": 16,
     "metadata": {},
     "output_type": "execute_result"
    }
   ],
   "source": [
    "data_set.fetch_news_sentiment_data()"
   ]
  },
  {
   "cell_type": "code",
   "execution_count": 10,
   "metadata": {},
   "outputs": [
    {
     "ename": "TypeError",
     "evalue": "FinancialAnalytics.cluster_data() missing 1 required positional argument: 'file_path'",
     "output_type": "error",
     "traceback": [
      "\u001b[1;31m---------------------------------------------------------------------------\u001b[0m",
      "\u001b[1;31mTypeError\u001b[0m                                 Traceback (most recent call last)",
      "\u001b[1;32mc:\\Users\\jessi\\OneDrive\\1 Projects\\1-svts\\notebooks\\data_preprocessing\\exploratory_data_analysis.ipynb Cell 11\u001b[0m line \u001b[0;36m5\n\u001b[0;32m      <a href='vscode-notebook-cell:/c%3A/Users/jessi/OneDrive/1%20Projects/1-svts/notebooks/data_preprocessing/exploratory_data_analysis.ipynb#X14sZmlsZQ%3D%3D?line=0'>1</a>\u001b[0m \u001b[39mfrom\u001b[39;00m \u001b[39msrc\u001b[39;00m\u001b[39m.\u001b[39;00m\u001b[39mutils\u001b[39;00m \u001b[39mimport\u001b[39;00m data_source\n\u001b[0;32m      <a href='vscode-notebook-cell:/c%3A/Users/jessi/OneDrive/1%20Projects/1-svts/notebooks/data_preprocessing/exploratory_data_analysis.ipynb#X14sZmlsZQ%3D%3D?line=2'>3</a>\u001b[0m data_set \u001b[39m=\u001b[39m data_source\u001b[39m.\u001b[39mFinancialAnalytics()\n\u001b[1;32m----> <a href='vscode-notebook-cell:/c%3A/Users/jessi/OneDrive/1%20Projects/1-svts/notebooks/data_preprocessing/exploratory_data_analysis.ipynb#X14sZmlsZQ%3D%3D?line=4'>5</a>\u001b[0m data_set\u001b[39m.\u001b[39;49mcluster_data()\n",
      "\u001b[1;31mTypeError\u001b[0m: FinancialAnalytics.cluster_data() missing 1 required positional argument: 'file_path'"
     ]
    }
   ],
   "source": [
    "from src.utils import data_source\n",
    "\n",
    "data_set = data_source.FinancialAnalytics()\n",
    "\n",
    "data_set.cluster_data()"
   ]
  },
  {
   "cell_type": "code",
   "execution_count": null,
   "metadata": {},
   "outputs": [],
   "source": []
  }
 ],
 "metadata": {
  "kernelspec": {
   "display_name": "python-venv",
   "language": "python",
   "name": "python3"
  },
  "language_info": {
   "codemirror_mode": {
    "name": "ipython",
    "version": 3
   },
   "file_extension": ".py",
   "mimetype": "text/x-python",
   "name": "python",
   "nbconvert_exporter": "python",
   "pygments_lexer": "ipython3",
   "version": "3.11.6"
  }
 },
 "nbformat": 4,
 "nbformat_minor": 2
}
