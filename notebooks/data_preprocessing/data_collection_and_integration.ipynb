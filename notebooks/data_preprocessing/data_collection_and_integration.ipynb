{
 "cells": [
  {
   "cell_type": "markdown",
   "metadata": {},
   "source": [
    "### Objective\n",
    "Collect necessary data for my financial analytics system. News API from Alpha Vantage, and FIX API from cTrader are my data sources\n"
   ]
  },
  {
   "cell_type": "code",
   "execution_count": 5,
   "metadata": {},
   "outputs": [
    {
     "name": "stdout",
     "output_type": "stream",
     "text": [
      "        ticker relevance_score ticker_sentiment_score ticker_sentiment_label  \\\n",
      "0    FOREX:GBP        0.029802               0.219394       Somewhat-Bullish   \n",
      "1    FOREX:GBP        0.067536              -0.004075                Neutral   \n",
      "2    FOREX:GBP        0.071357               0.008107                Neutral   \n",
      "3    FOREX:GBP        0.294682              -0.108114                Neutral   \n",
      "4    FOREX:GBP         0.04794               0.099001                Neutral   \n",
      "..         ...             ...                    ...                    ...   \n",
      "671  FOREX:GBP        0.078354              -0.088206                Neutral   \n",
      "672  FOREX:GBP        0.053629               0.356994                Bullish   \n",
      "673  FOREX:GBP        0.011803               0.034286                Neutral   \n",
      "674  FOREX:GBP        0.521465              -0.081023                Neutral   \n",
      "675  FOREX:GBP        0.076358               0.019554                Neutral   \n",
      "\n",
      "          time_published(est)  \n",
      "0   2023-10-17 16:00:00-04:00  \n",
      "1   2023-10-17 13:00:00-04:00  \n",
      "2   2023-10-17 10:10:07-04:00  \n",
      "3   2023-10-17 06:36:00-04:00  \n",
      "4   2023-10-17 06:01:00-04:00  \n",
      "..                        ...  \n",
      "671 2023-08-02 08:40:00-04:00  \n",
      "672 2023-08-02 08:30:00-04:00  \n",
      "673 2023-08-02 07:00:00-04:00  \n",
      "674 2023-08-02 06:56:00-04:00  \n",
      "675 2023-08-02 01:55:38-04:00  \n",
      "\n",
      "[676 rows x 5 columns]\n"
     ]
    }
   ],
   "source": [
    "import sys\n",
    "sys.path.append(r'C:\\Users\\jessi\\OneDrive\\1 Projects\\1-svts') # Relocate Jupyter Notebook working directory\n",
    "\n",
    "from src.utils import news_data\n",
    "\n",
    "df = news_data.extract_sentiment(ticker='FOREX:GBP', date_from='20230404T0130', sort='LATEST')\n",
    "\n",
    "print(df)"
   ]
  },
  {
   "cell_type": "code",
   "execution_count": 21,
   "metadata": {},
   "outputs": [],
   "source": [
    "\n",
    "# Save csv file to folder\n",
    "eur_sentiment = df.to_csv(r'C:\\Users\\jessi\\OneDrive\\1 Projects\\1-svts\\data\\external\\news-analysis\\eur_sentiment.csv', index=False)\n"
   ]
  },
  {
   "cell_type": "markdown",
   "metadata": {},
   "source": [
    "## Market price data collection"
   ]
  },
  {
   "cell_type": "code",
   "execution_count": null,
   "metadata": {},
   "outputs": [],
   "source": []
  }
 ],
 "metadata": {
  "kernelspec": {
   "display_name": "python-venv",
   "language": "python",
   "name": "python3"
  },
  "language_info": {
   "codemirror_mode": {
    "name": "ipython",
    "version": 3
   },
   "file_extension": ".py",
   "mimetype": "text/x-python",
   "name": "python",
   "nbconvert_exporter": "python",
   "pygments_lexer": "ipython3",
   "version": "3.11.6"
  }
 },
 "nbformat": 4,
 "nbformat_minor": 2
}
