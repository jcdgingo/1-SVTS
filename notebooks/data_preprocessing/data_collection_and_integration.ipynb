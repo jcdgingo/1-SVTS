{
 "cells": [
  {
   "cell_type": "markdown",
   "metadata": {},
   "source": [
    "# News data collection"
   ]
  },
  {
   "cell_type": "code",
   "execution_count": 1,
   "metadata": {},
   "outputs": [
    {
     "name": "stdout",
     "output_type": "stream",
     "text": [
      "        ticker relevance_score ticker_sentiment_score ticker_sentiment_label  \\\n",
      "0    FOREX:EUR        0.554916               0.254518       Somewhat-Bullish   \n",
      "1    FOREX:EUR        0.096671              -0.026837                Neutral   \n",
      "2    FOREX:EUR        0.173958               0.062668                Neutral   \n",
      "3    FOREX:EUR        0.147818               0.060182                Neutral   \n",
      "4    FOREX:EUR        0.236972               0.252242       Somewhat-Bullish   \n",
      "..         ...             ...                    ...                    ...   \n",
      "761  FOREX:EUR        0.194763               0.148621                Neutral   \n",
      "762  FOREX:EUR        0.062597              -0.053192                Neutral   \n",
      "763  FOREX:EUR        0.075161               0.129358                Neutral   \n",
      "764  FOREX:EUR        0.152178               0.265874       Somewhat-Bullish   \n",
      "765  FOREX:EUR        0.146618               0.248585       Somewhat-Bullish   \n",
      "\n",
      "          time_published(est)  \n",
      "0   2023-10-19 15:26:52-04:00  \n",
      "1   2023-10-19 12:42:00-04:00  \n",
      "2   2023-10-19 12:00:00-04:00  \n",
      "3   2023-10-19 12:00:00-04:00  \n",
      "4   2023-10-19 11:57:32-04:00  \n",
      "..                        ...  \n",
      "761 2023-09-20 13:19:00-04:00  \n",
      "762 2023-09-20 12:28:00-04:00  \n",
      "763 2023-09-20 12:21:00-04:00  \n",
      "764 2023-09-20 12:00:00-04:00  \n",
      "765 2023-09-20 12:00:00-04:00  \n",
      "\n",
      "[766 rows x 5 columns]\n"
     ]
    }
   ],
   "source": [
    "import sys\n",
    "sys.path.append(r'C:\\Users\\jessi\\OneDrive\\1 Projects\\1-svts') # Relocate Jupyter Notebook working directory\n",
    "\n",
    "from src.utils import news_data\n",
    "\n",
    "# All capital letters for the parameters\n",
    "df = news_data.extract_sentiment(ticker='FOREX:EUR', date_from='20230404T0130', sort='LATEST')\n",
    "\n",
    "print(df)"
   ]
  },
  {
   "cell_type": "code",
   "execution_count": 7,
   "metadata": {},
   "outputs": [],
   "source": [
    "# Save csv file to folder\n",
    "eur_sentiment = df.to_csv(r'C:\\Users\\jessi\\OneDrive\\1 Projects\\1-svts\\data\\external\\news-analysis\\eur_sentiment.csv', index=False)"
   ]
  },
  {
   "cell_type": "markdown",
   "metadata": {},
   "source": [
    "## Market execution\n"
   ]
  },
  {
   "cell_type": "code",
   "execution_count": 18,
   "metadata": {},
   "outputs": [],
   "source": [
    "from twisted.internet import reactor\n",
    "import json\n",
    "from ctrader_fix import *\n",
    "import datetime"
   ]
  },
  {
   "cell_type": "code",
   "execution_count": 39,
   "metadata": {},
   "outputs": [],
   "source": [
    "# you can use two separate config files for QUOTE and TRADE\n",
    "with open(\"config-quote.json\") as configFile:\n",
    "    config = json.load(configFile)"
   ]
  },
  {
   "cell_type": "code",
   "execution_count": 40,
   "metadata": {},
   "outputs": [],
   "source": [
    "client = Client(config[\"Host\"], config[\"Port\"], ssl = config[\"SSL\"])"
   ]
  },
  {
   "cell_type": "code",
   "execution_count": 35,
   "metadata": {},
   "outputs": [],
   "source": [
    "def send(request):\n",
    "    diferred = client.send(request)\n",
    "    diferred.addCallback(lambda _: print(\"\\nSent: \", request.getMessage(client.getMessageSequenceNumber()).replace(\"\u0001\", \"|\")))"
   ]
  },
  {
   "cell_type": "code",
   "execution_count": 17,
   "metadata": {},
   "outputs": [],
   "source": [
    "def onMessageReceived(client, responseMessage): # Callback for receiving all messages\n",
    "    print(\"\\nReceived: \", responseMessage.getMessage().replace(\"\u0001\", \"|\"))\n",
    "    # We get the message type field value\n",
    "    messageType = responseMessage.getFieldValue(35)\n",
    "    # we send a security list request after we received logon message response\n",
    "    if messageType == \"A\":\n",
    "        securityListRequest = SecurityListRequest(config)\n",
    "        securityListRequest.SecurityReqID = \"A\"\n",
    "        securityListRequest.SecurityListRequestType = 0\n",
    "        send(securityListRequest)\n",
    "    # After receiving the security list we send a market order request by using the security list first symbol\n",
    "    elif messageType == \"y\":\n",
    "        # We use getFieldValue to get all symbol IDs, it will return a list in this case\n",
    "        # because the symbol ID field is repetitive\n",
    "        symboldIds = responseMessage.getFieldValue(55)\n",
    "        if config[\"TargetSubID\"] == \"TRADE\":\n",
    "            newOrderSingle = NewOrderSingle(config)\n",
    "            newOrderSingle.ClOrdID = \"B\"\n",
    "            newOrderSingle.Symbol = symboldIds[1]\n",
    "            newOrderSingle.Side = 1\n",
    "            newOrderSingle.OrderQty = 1000\n",
    "            newOrderSingle.OrdType = 1\n",
    "            newOrderSingle.Designation = \"From Jupyter\"\n",
    "            send(newOrderSingle)\n",
    "        else:\n",
    "            marketDataRequest = MarketDataRequest(config)\n",
    "            marketDataRequest.MDReqID = \"a\"\n",
    "            marketDataRequest.SubscriptionRequestType = 1\n",
    "            marketDataRequest.MarketDepth = 1\n",
    "            marketDataRequest.NoMDEntryTypes = 1\n",
    "            marketDataRequest.MDEntryType = 0\n",
    "            marketDataRequest.NoRelatedSym = 1\n",
    "            marketDataRequest.Symbol = symboldIds[1]\n",
    "            send(marketDataRequest)\n",
    "    # after receiving the new order request response we stop the reactor\n",
    "    # And we will be disconnected from API\n",
    "    elif messageType == \"8\" or messageType == \"j\":\n",
    "        print(\"We are done, stopping the reactor\")\n",
    "        reactor.stop()\n",
    "\n",
    "def disconnected(client, reason): # Callback for client disconnection\n",
    "    print(\"\\nDisconnected, reason: \", reason)\n",
    "\n",
    "def connected(client): # Callback for client connection\n",
    "    print(\"Connected\")\n",
    "    logonRequest = LogonRequest(config)\n",
    "    send(logonRequest)\n",
    "    \n",
    "# Setting client callbacks\n",
    "client.setConnectedCallback(connected)\n",
    "client.setDisconnectedCallback(disconnected)\n",
    "client.setMessageReceivedCallback(onMessageReceived)"
   ]
  },
  {
   "cell_type": "code",
   "execution_count": 21,
   "metadata": {},
   "outputs": [],
   "source": [
    "# Creating a Python module to fetch market data using FIX protocol.\n",
    "# This is a simplified example and assumes that you have a client object and config dictionary initialized.\n",
    "\n",
    "class MarketDataFetcher:\n",
    "    def __init__(self, client, config):\n",
    "        self.client = client\n",
    "        self.config = config\n",
    "        self.client.setConnectedCallback(self.connected)\n",
    "        self.client.setDisconnectedCallback(self.disconnected)\n",
    "        self.client.setMessageReceivedCallback(self.onMessageReceived)\n",
    "\n",
    "    def send(self, request):\n",
    "        deferred = self.client.send(request)\n",
    "        deferred.addCallback(lambda _: print(\"\\nSent: \", request.getMessage(self.client.getMessageSequenceNumber()).replace(\"\u0001\", \"|\")))\n",
    "\n",
    "    def onMessageReceived(self, client, responseMessage):\n",
    "        print(\"\\nReceived: \", responseMessage.getMessage().replace(\"\u0001\", \"|\"))\n",
    "        messageType = responseMessage.getFieldValue(35)\n",
    "        if messageType == \"A\":\n",
    "            self.send_security_list_request()\n",
    "        elif messageType == \"y\":\n",
    "            self.send_market_data_request(responseMessage)\n",
    "\n",
    "    def disconnected(self, client, reason):\n",
    "        print(\"\\nDisconnected, reason: \", reason)\n",
    "\n",
    "    def connected(self, client):\n",
    "        print(\"Connected\")\n",
    "        self.send_logon_request()\n",
    "\n",
    "    def send_logon_request(self):\n",
    "        logonRequest = LogonRequest(self.config)\n",
    "        self.send(logonRequest)\n",
    "\n",
    "    def send_security_list_request(self):\n",
    "        securityListRequest = SecurityListRequest(self.config)\n",
    "        securityListRequest.SecurityReqID = \"A\"\n",
    "        securityListRequest.SecurityListRequestType = 0\n",
    "        self.send(securityListRequest)\n",
    "\n",
    "    def send_market_data_request(self, responseMessage):\n",
    "        symbolIds = responseMessage.getFieldValue(55)\n",
    "        marketDataRequest = MarketDataRequest(self.config)\n",
    "        marketDataRequest.MDReqID = \"a\"\n",
    "        marketDataRequest.SubscriptionRequestType = 1\n",
    "        marketDataRequest.MarketDepth = 1\n",
    "        marketDataRequest.NoMDEntryTypes = 1\n",
    "        marketDataRequest.MDEntryType = 0\n",
    "        marketDataRequest.NoRelatedSym = 1\n",
    "        marketDataRequest.Symbol = symbolIds[1]\n",
    "        self.send(marketDataRequest)\n",
    "\n",
    "# Example usage:\n",
    "# market_data_fetcher = MarketDataFetcher(client, config)\n",
    "# Note: The client and config objects need to be initialized before passing them to MarketDataFetcher.\n",
    "market_data_fetcher = MarketDataFetcher(client, config)"
   ]
  },
  {
   "cell_type": "code",
   "execution_count": 43,
   "metadata": {},
   "outputs": [],
   "source": [
    "market_data_fetcher.send_security_list_request()"
   ]
  },
  {
   "cell_type": "markdown",
   "metadata": {},
   "source": [
    "# Market data manual input"
   ]
  },
  {
   "cell_type": "code",
   "execution_count": null,
   "metadata": {},
   "outputs": [],
   "source": [
    "# Combine all the steps into a single cell to transform the TSV file and save it as a CSV file\n",
    "\n",
    "# Import required libraries\n",
    "import pandas as pd\n",
    "from pytz import timezone\n",
    "\n",
    "# Read the TSV file\n",
    "tsv_file_path = '/mnt/data/EURUSD_M1_202310180000_202310192047.csv'\n",
    "df_tsv = pd.read_csv(tsv_file_path, sep='\\t')\n",
    "\n",
    "# Drop the <VOL> column\n",
    "df_tsv.drop('<VOL>', axis=1, inplace=True)\n",
    "\n",
    "# Combine <DATE> and <TIME> columns into a single DateTime column and convert to datetime object\n",
    "df_tsv['DateTime'] = pd.to_datetime(df_tsv['<DATE>'] + ' ' + df_tsv['<TIME>'])\n",
    "\n",
    "# Drop the separate <DATE> and <TIME> columns\n",
    "df_tsv.drop(['<DATE>', '<TIME>'], axis=1, inplace=True)\n",
    "\n",
    "# Convert time from UTC+3 to EST (UTC-4)\n",
    "utc3 = timezone('Etc/GMT-3')\n",
    "utc4 = timezone('Etc/GMT+4')\n",
    "df_tsv['DateTime'] = df_tsv['DateTime'].apply(lambda x: utc3.localize(x).astimezone(utc4))\n",
    "\n",
    "# Reorder columns\n",
    "df_tsv = df_tsv[['DateTime', '<OPEN>', '<HIGH>', '<LOW>', '<CLOSE>', '<TICKVOL>', '<SPREAD>']]\n",
    "\n",
    "# Save as CSV\n",
    "output_csv_file_path = '/mnt/data/EURUSD_M1_20231018_20231019_modified_single_cell.csv'\n",
    "df_tsv.to_csv(output_csv_file_path, index=False)\n",
    "\n",
    "output_csv_file_path\n"
   ]
  }
 ],
 "metadata": {
  "kernelspec": {
   "display_name": "python-venv",
   "language": "python",
   "name": "python3"
  },
  "language_info": {
   "codemirror_mode": {
    "name": "ipython",
    "version": 3
   },
   "file_extension": ".py",
   "mimetype": "text/x-python",
   "name": "python",
   "nbconvert_exporter": "python",
   "pygments_lexer": "ipython3",
   "version": "3.11.6"
  }
 },
 "nbformat": 4,
 "nbformat_minor": 2
}
