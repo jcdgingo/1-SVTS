{
 "cells": [
  {
   "cell_type": "markdown",
   "metadata": {},
   "source": [
    "# News data collection"
   ]
  },
  {
   "cell_type": "code",
   "execution_count": 9,
   "metadata": {},
   "outputs": [
    {
     "name": "stdout",
     "output_type": "stream",
     "text": [
      "        ticker relevance_score ticker_sentiment_score ticker_sentiment_label  \\\n",
      "0    FOREX:EUR         0.05654               0.051923                Neutral   \n",
      "1    FOREX:EUR        0.382925                0.23771       Somewhat-Bullish   \n",
      "2    FOREX:EUR        0.710813               0.391358                Bullish   \n",
      "3    FOREX:EUR        0.029436               0.089079                Neutral   \n",
      "4    FOREX:EUR        0.165288               0.152561       Somewhat-Bullish   \n",
      "..         ...             ...                    ...                    ...   \n",
      "761  FOREX:EUR        0.083833               0.016985                Neutral   \n",
      "762  FOREX:EUR        0.836003               0.174806       Somewhat-Bullish   \n",
      "763  FOREX:EUR        0.092927              -0.002171                Neutral   \n",
      "764  FOREX:EUR        0.085022               0.074107                Neutral   \n",
      "765  FOREX:EUR        0.143415                    0.0                Neutral   \n",
      "\n",
      "          time_published(est)  \n",
      "0   2023-10-20 05:13:00-04:00  \n",
      "1   2023-10-20 04:45:11-04:00  \n",
      "2   2023-10-20 02:00:00-04:00  \n",
      "3   2023-10-20 02:00:00-04:00  \n",
      "4   2023-10-20 02:00:00-04:00  \n",
      "..                        ...  \n",
      "761 2023-09-21 03:34:45-04:00  \n",
      "762 2023-09-21 03:34:44-04:00  \n",
      "763 2023-09-21 03:26:42-04:00  \n",
      "764 2023-09-21 03:18:45-04:00  \n",
      "765 2023-09-21 02:56:15-04:00  \n",
      "\n",
      "[766 rows x 5 columns]\n"
     ]
    }
   ],
   "source": [
    "from src.utils import news_data\n",
    "\n",
    "# All capital letters for the parameters\n",
    "df = news_data.extract_sentiment(ticker='FOREX:EUR', date_from='20230404T0130', sort='LATEST')\n",
    "# Save csv file to folder\n",
    "df.to_csv(r'C:\\Users\\jessi\\OneDrive\\1 Projects\\1-svts\\data\\external\\news-analysis\\eur_sentiment.csv', index=False)\n"
   ]
  },
  {
   "cell_type": "code",
   "execution_count": null,
   "metadata": {},
   "outputs": [],
   "source": []
  }
 ],
 "metadata": {
  "kernelspec": {
   "display_name": "python-venv",
   "language": "python",
   "name": "python3"
  },
  "language_info": {
   "codemirror_mode": {
    "name": "ipython",
    "version": 3
   },
   "file_extension": ".py",
   "mimetype": "text/x-python",
   "name": "python",
   "nbconvert_exporter": "python",
   "pygments_lexer": "ipython3",
   "version": "3.11.6"
  }
 },
 "nbformat": 4,
 "nbformat_minor": 2
}
